{
 "cells": [
  {
   "cell_type": "markdown",
   "id": "b5270b3d",
   "metadata": {},
   "source": [
    "# while loop exercise"
   ]
  },
  {
   "attachments": {},
   "cell_type": "markdown",
   "id": "71503b7b",
   "metadata": {},
   "source": [
    "The program will print\n",
    "GO! GO! GO!\n",
    "As long as the variable “x” is more that 50"
   ]
  },
  {
   "cell_type": "code",
   "execution_count": null,
   "id": "23ed556f",
   "metadata": {},
   "outputs": [],
   "source": [
    "# Your code here\n",
    "\n"
   ]
  },
  {
   "attachments": {},
   "cell_type": "markdown",
   "id": "8f233165",
   "metadata": {},
   "source": [
    "The program that will print Good Morning, Steve as log as the variable ”name is = “Steve”\n",
    "You will need to ask the user for their name\n",
    "If name is not Steve print \"your nname is not Steve, oh well Good Morning anyway!!"
   ]
  },
  {
   "cell_type": "code",
   "execution_count": null,
   "id": "fb7753d8",
   "metadata": {},
   "outputs": [],
   "source": [
    "# Your code here\n",
    "\n"
   ]
  },
  {
   "attachments": {},
   "cell_type": "markdown",
   "id": "ab818652",
   "metadata": {},
   "source": [
    "The program that will count from 7 to 11 by twos 3 times"
   ]
  },
  {
   "cell_type": "code",
   "execution_count": null,
   "id": "e8a3338a",
   "metadata": {},
   "outputs": [],
   "source": [
    "# Your code here\n",
    "\n"
   ]
  }
 ],
 "metadata": {
  "kernelspec": {
   "display_name": "Python 3 (ipykernel)",
   "language": "python",
   "name": "python3"
  },
  "language_info": {
   "codemirror_mode": {
    "name": "ipython",
    "version": 3
   },
   "file_extension": ".py",
   "mimetype": "text/x-python",
   "name": "python",
   "nbconvert_exporter": "python",
   "pygments_lexer": "ipython3",
   "version": "3.9.7"
  }
 },
 "nbformat": 4,
 "nbformat_minor": 5
}
