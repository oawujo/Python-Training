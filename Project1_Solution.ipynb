{
 "cells": [
  {
   "cell_type": "code",
   "execution_count": null,
   "id": "b74ba48f",
   "metadata": {},
   "outputs": [],
   "source": [
    "x = float(input(\"please enter your first number: \"))\n",
    "print ('you have entered: ' + str(x) +  '  x = '+ str(x))\n",
    "y = float(input(\"please enter your first number: \"))\n",
    "print ('you have entered: ' + str(y) +  '  y = '+ str(y))\n",
    "z = int(input('Please Select the operation you want to perform\\n\\tFor addition please enter 1\\n\\tFor subtraction , please enter 2\\n\\tFor Multiplication, please enter 3,\\n\\tFor division, please enter 4,\\n\\tFor Modulus, please enter 5'))\n",
    "if z == 1:\n",
    "    print ('x + y = ' + str(x + y))\n",
    "if z == 2:\n",
    "    print ('x - y = ' + str(x - y))\n",
    "if z == 3:\n",
    "    print ('x * y = ' + str(x * y))\n",
    "if z == 4:\n",
    "    print ('x / y = ' + str(x / y))\n",
    "if z == 5:\n",
    "    print ('modulus = ' + str(x % y))\n",
    "if z > 5:\n",
    "    print ('You have entered a wrong selection')\n",
    "if x > y:\n",
    "    a = x / y\n",
    "    print('The first number is bigger than the second number\\nand the result when you divide the bigger number by the smaller number \\nis: '   + str(a))\n",
    "else:\n",
    "    b = y / x\n",
    "    print('The second number is bigger than the first number\\nand the result when you divide the bigger number by the smaller number \\nis:  '    + str(b))"
   ]
  }
 ],
 "metadata": {
  "kernelspec": {
   "display_name": "Python 3 (ipykernel)",
   "language": "python",
   "name": "python3"
  },
  "language_info": {
   "codemirror_mode": {
    "name": "ipython",
    "version": 3
   },
   "file_extension": ".py",
   "mimetype": "text/x-python",
   "name": "python",
   "nbconvert_exporter": "python",
   "pygments_lexer": "ipython3",
   "version": "3.9.7"
  }
 },
 "nbformat": 4,
 "nbformat_minor": 5
}
